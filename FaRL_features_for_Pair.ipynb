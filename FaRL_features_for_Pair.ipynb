{
 "cells": [
  {
   "cell_type": "code",
   "execution_count": 1,
   "id": "7b027581",
   "metadata": {},
   "outputs": [],
   "source": [
    "import os\n",
    "CODE_DIR = '/home/joshua/Projects/diffae'\n",
    "os.chdir(f'{CODE_DIR}')"
   ]
  },
  {
   "cell_type": "code",
   "execution_count": 48,
   "id": "b8e23518",
   "metadata": {},
   "outputs": [],
   "source": [
    "import torch\n",
    "from torchvision.utils import save_image\n",
    "from templates import *\n",
    "from templates_cls import *\n",
    "from experiment_classifier import ClsModel\n",
    "import clip\n",
    "from PIL import Image\n",
    "\n",
    "import sys\n",
    "sys.path.append('/home/joshua/Projects/diffae/disentanglement/')\n",
    "from Losses import id_loss\n",
    "\n",
    "device =\"cuda\" if torch.cuda.is_available() else \"cpu\"\n",
    "\n",
    "#----------------Load FaRL and Arcface model----------------------#\n",
    "FaRL_model, preprocess = clip.load(\"ViT-B/16\", device=\"cpu\")\n",
    "FaRL_model = FaRL_model.to(device)\n",
    "FaRL_state=torch.load(\"FaRL/checkpoints/FaRL-Base-Patch16-LAIONFace20M-ep64.pth\") # you can download from https://github.com/FacePerceiver/FaRL#pre-trained-backbones\n",
    "FaRL_model.load_state_dict(FaRL_state[\"state_dict\"],strict=False)\n",
    "FaRL_model.eval()\n",
    "\n",
    "def extract_features(image_folder, save_folder):\n",
    "    # 创建保存文件夹\n",
    "    os.makedirs(save_folder, exist_ok=True)\n",
    "    # 创建保存文件夹名称的txt文件\n",
    "    txt_file = os.path.join(save_folder, \"folder_names.txt\")\n",
    "    with open(txt_file, \"w\") as f:\n",
    "        pass\n",
    "\n",
    "    # 图像预处理\n",
    "    FaRL_transform0 = transforms.Compose([\n",
    "        transforms.Resize(size=224, interpolation=transforms.InterpolationMode.BICUBIC),\n",
    "        transforms.CenterCrop(size=224),\n",
    "        transforms.Normalize(mean=(0.48145466, 0.4578275, 0.40821073), \n",
    "                             std=(0.26862954, 0.26130258, 0.27577711))\n",
    "    ])\n",
    "\n",
    "    # 遍历图片文件夹\n",
    "    for root, dirs, files in os.walk(image_folder):\n",
    "        for file in files:\n",
    "            # 读取图片\n",
    "            image_path = os.path.join(root, file)\n",
    "            image = Image.open(image_path).convert(\"RGB\")\n",
    "            # 图像预处理\n",
    "            img_preprocess = transforms.ToTensor()\n",
    "            image_tensor = img_preprocess(image).unsqueeze(0).cuda()\n",
    "\n",
    "            # 使用模型提取特征\n",
    "            with torch.no_grad():\n",
    "                features = FaRL_model.visual(FaRL_transform0(image_tensor))\n",
    "\n",
    "            # 保存图片和特征\n",
    "            image_name = os.path.splitext(file)[0]\n",
    "            # 创建保存图片和特征的子文件夹\n",
    "            group_folder = os.path.join(save_folder, image_name)\n",
    "            os.makedirs(group_folder, exist_ok=True)\n",
    "            image_save_path = os.path.join(group_folder, image_name + \".jpg\")\n",
    "            feature_save_path = os.path.join(group_folder, image_name + \".pt\")\n",
    "\n",
    "            image.save(image_save_path)\n",
    "            torch.save(features, feature_save_path)\n",
    "\n",
    "            # 写入文件夹名称到txt文件\n",
    "            with open(txt_file, \"a\") as f:\n",
    "                f.write(group_folder + \"\\n\")\n",
    "\n"
   ]
  },
  {
   "cell_type": "code",
   "execution_count": 49,
   "id": "ab9ce6ef",
   "metadata": {},
   "outputs": [],
   "source": [
    "# 示例用法\n",
    "image_folder = \"imgs_align\"  # 输入图片文件夹\n",
    "save_folder = \"save_folder\"  # 保存文件夹\n",
    "\n",
    "extract_features(image_folder, save_folder)"
   ]
  },
  {
   "cell_type": "code",
   "execution_count": null,
   "id": "f707cf00",
   "metadata": {},
   "outputs": [],
   "source": []
  }
 ],
 "metadata": {
  "kernelspec": {
   "display_name": "Python 3 (ipykernel)",
   "language": "python",
   "name": "python3"
  },
  "language_info": {
   "codemirror_mode": {
    "name": "ipython",
    "version": 3
   },
   "file_extension": ".py",
   "mimetype": "text/x-python",
   "name": "python",
   "nbconvert_exporter": "python",
   "pygments_lexer": "ipython3",
   "version": "3.9.11"
  }
 },
 "nbformat": 4,
 "nbformat_minor": 5
}
