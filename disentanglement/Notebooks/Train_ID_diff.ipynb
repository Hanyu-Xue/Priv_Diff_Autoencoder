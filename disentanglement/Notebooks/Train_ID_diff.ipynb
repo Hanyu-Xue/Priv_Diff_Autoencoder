{
 "cells": [
  {
   "cell_type": "code",
   "execution_count": null,
   "id": "61404ed8",
   "metadata": {},
   "outputs": [],
   "source": [
    "def train_mapper(optimizer, generated_w):\n",
    "  \n",
    "    optimizer.zero_grad()\n",
    "    prediction = discriminator(generated_w).view(-1)\n",
    "    # Calculate error and backpropagate\n",
    "    error = calc_Dw_loss(prediction, 1, \"cuda\", generated_w, config['R1Param'], False)\n",
    "    error.backward()\n",
    "    # Update weights with gradients\n",
    "    optimizer.step()\n",
    "    # Return error\n",
    "    return error, prediction"
   ]
  },
  {
   "cell_type": "code",
   "execution_count": null,
   "id": "f50ff4a9",
   "metadata": {},
   "outputs": [],
   "source": []
  },
  {
   "cell_type": "code",
   "execution_count": null,
   "id": "fb142442",
   "metadata": {},
   "outputs": [],
   "source": [
    "epochs = 4\n",
    "for epoch in range(epochs):\n",
    "  for idx, data in enumerate(train_loader):\n",
    "\n",
    "    id_images, attr_images, ws = data\n",
    "\n",
    "    torch.cuda.empty_cache()\n",
    "    id_images = id_images[0].cuda()\n",
    "    attr_images = attr_images[0].cuda()\n",
    "    ws = ws.cuda()\n",
    "\n",
    "    if idx % config['IdDiffersAttrTrainRatio'] == 0:\n",
    "      different_attr_images = torch.empty_like(attr_images, device='cuda')\n",
    "      different_attr_images[0] = attr_images[7]\n",
    "      different_attr_images[1:] = attr_images[:7]\n",
    "      attr_images = different_attr_images\n",
    "    \n",
    "    with torch.no_grad():\n",
    "      id_vec = E_id(id_images)\n",
    "\n",
    "    attr_vec = E_att(attr_images)\n",
    "    id_vec = torch.squeeze(id_vec)\n",
    "    attr_vec = torch.squeeze(attr_vec)\n",
    "    encoded_vec = torch.cat((id_vec,attr_vec), dim=1)\n",
    "\n",
    "    fake_data = mlp(encoded_vec)\n",
    "    error_real, prediction_real, error_fake, prediction_fake = train_discriminator(optimizerD, ws, fake_data)\n",
    "    print(f\"\\n error_real: {error_real}, error_fake: {error_fake} \\n prediction_real: {torch.mean(prediction_real)}, prediction_fake: {torch.mean(prediction_fake)}\")\n",
    "    g_error, g_pred = train_mapper(optimizerMLP, fake_data)\n",
    "    print(f\"\\n g_error: {g_error}, g_pred: {torch.mean(g_pred)}\")\n",
    "\n",
    "    MLP_losses.append(g_error)\n",
    "    D_losses.append((error_real + error_fake) /2)\n",
    "\n",
    "    if idx % 5 == 0:\n",
    "        with torch.no_grad():\n",
    "          plot_w_image(mlp(test_vec)[0])"
   ]
  }
 ],
 "metadata": {
  "kernelspec": {
   "display_name": "Python 3 (ipykernel)",
   "language": "python",
   "name": "python3"
  },
  "language_info": {
   "codemirror_mode": {
    "name": "ipython",
    "version": 3
   },
   "file_extension": ".py",
   "mimetype": "text/x-python",
   "name": "python",
   "nbconvert_exporter": "python",
   "pygments_lexer": "ipython3",
   "version": "3.9.11"
  }
 },
 "nbformat": 4,
 "nbformat_minor": 5
}
